{
 "cells": [
  {
   "cell_type": "markdown",
   "metadata": {},
   "source": [
    "## This Notebook gives performs Data Splitting and Resizing of Images (to load in Google Drive - Colab)"
   ]
  },
  {
   "cell_type": "markdown",
   "metadata": {},
   "source": [
    "#  <font color='red'>Table of Contents</font>"
   ]
  },
  {
   "cell_type": "markdown",
   "metadata": {},
   "source": [
    "[6. Train Validation Split](#section6)<br>\n",
    "[7. Resize and save](#section7)<br>\n",
    "[8. Image Pre Processing and save](#section8)<br>"
   ]
  },
  {
   "cell_type": "code",
   "execution_count": 1,
   "metadata": {},
   "outputs": [
    {
     "name": "stdout",
     "output_type": "stream",
     "text": [
      "CWD is  D:\\Documentos\\Projects\\Python\\BlindnessDetection-DiabeticRetinopathy\n"
     ]
    }
   ],
   "source": [
    "#ref - https://stackoverflow.com/questions/14463277/how-to-disable-python-warnings\n",
    "\n",
    "# Basic Libs..\n",
    "import multiprocessing\n",
    "from multiprocessing.pool import ThreadPool\n",
    "# import warnings\n",
    "# warnings.filterwarnings(\"ignore\")\n",
    "import pandas as pd\n",
    "import numpy as np\n",
    "from tqdm import tqdm,tqdm_notebook\n",
    "from prettytable import PrettyTable\n",
    "import pickle\n",
    "import os\n",
    "print('CWD is ',os.getcwd())\n",
    "\n",
    "# Vis Libs..\n",
    "from sklearn.manifold import TSNE\n",
    "import seaborn as sns\n",
    "import matplotlib.pyplot as plt\n",
    "%matplotlib inline\n",
    "plt.rcParams[\"axes.grid\"] = False\n",
    "\n",
    "# Image Libs.\n",
    "from PIL import Image\n",
    "import cv2\n",
    "\n",
    "# sklearn libs..\n",
    "from sklearn.model_selection import train_test_split"
   ]
  },
  {
   "cell_type": "markdown",
   "metadata": {},
   "source": [
    "#  <a id = 'section6'> <font color='red'>  6. Train Validation Split</font> </a>"
   ]
  },
  {
   "cell_type": "code",
   "execution_count": 2,
   "metadata": {},
   "outputs": [],
   "source": [
    "'''\n",
    "This function reads data from the respective train and test directories\n",
    "'''\n",
    "\n",
    "def load_data():\n",
    "    train = pd.read_csv('train.csv')\n",
    "    test = pd.read_csv('test.csv')\n",
    "    \n",
    "    train_dir = os.path.join('./','train_images/')\n",
    "    test_dir = os.path.join('./','test_images/')\n",
    "    \n",
    "    train['file_path'] = train['id_code'].map(lambda x: os.path.join(train_dir,'{}.png'.format(x)))\n",
    "    test['file_path'] = test['id_code'].map(lambda x: os.path.join(test_dir,'{}.png'.format(x)))\n",
    "    \n",
    "    train['file_name'] = train[\"id_code\"].apply(lambda x: x + \".png\")\n",
    "    test['file_name'] = test[\"id_code\"].apply(lambda x: x + \".png\")\n",
    "    \n",
    "    train['diagnosis'] = train['diagnosis'].astype(str)\n",
    "    \n",
    "    return train,test"
   ]
  },
  {
   "cell_type": "code",
   "execution_count": 3,
   "metadata": {},
   "outputs": [
    {
     "name": "stdout",
     "output_type": "stream",
     "text": [
      "(3662, 4) (1928, 3) \n",
      "\n"
     ]
    },
    {
     "data": {
      "text/html": [
       "<div>\n",
       "<style scoped>\n",
       "    .dataframe tbody tr th:only-of-type {\n",
       "        vertical-align: middle;\n",
       "    }\n",
       "\n",
       "    .dataframe tbody tr th {\n",
       "        vertical-align: top;\n",
       "    }\n",
       "\n",
       "    .dataframe thead th {\n",
       "        text-align: right;\n",
       "    }\n",
       "</style>\n",
       "<table border=\"1\" class=\"dataframe\">\n",
       "  <thead>\n",
       "    <tr style=\"text-align: right;\">\n",
       "      <th></th>\n",
       "      <th>id_code</th>\n",
       "      <th>diagnosis</th>\n",
       "      <th>file_path</th>\n",
       "      <th>file_name</th>\n",
       "    </tr>\n",
       "  </thead>\n",
       "  <tbody>\n",
       "    <tr>\n",
       "      <th>0</th>\n",
       "      <td>000c1434d8d7</td>\n",
       "      <td>2</td>\n",
       "      <td>./train_images/000c1434d8d7.png</td>\n",
       "      <td>000c1434d8d7.png</td>\n",
       "    </tr>\n",
       "    <tr>\n",
       "      <th>1</th>\n",
       "      <td>001639a390f0</td>\n",
       "      <td>4</td>\n",
       "      <td>./train_images/001639a390f0.png</td>\n",
       "      <td>001639a390f0.png</td>\n",
       "    </tr>\n",
       "    <tr>\n",
       "      <th>2</th>\n",
       "      <td>0024cdab0c1e</td>\n",
       "      <td>1</td>\n",
       "      <td>./train_images/0024cdab0c1e.png</td>\n",
       "      <td>0024cdab0c1e.png</td>\n",
       "    </tr>\n",
       "    <tr>\n",
       "      <th>3</th>\n",
       "      <td>002c21358ce6</td>\n",
       "      <td>0</td>\n",
       "      <td>./train_images/002c21358ce6.png</td>\n",
       "      <td>002c21358ce6.png</td>\n",
       "    </tr>\n",
       "    <tr>\n",
       "      <th>4</th>\n",
       "      <td>005b95c28852</td>\n",
       "      <td>0</td>\n",
       "      <td>./train_images/005b95c28852.png</td>\n",
       "      <td>005b95c28852.png</td>\n",
       "    </tr>\n",
       "    <tr>\n",
       "      <th>5</th>\n",
       "      <td>0083ee8054ee</td>\n",
       "      <td>4</td>\n",
       "      <td>./train_images/0083ee8054ee.png</td>\n",
       "      <td>0083ee8054ee.png</td>\n",
       "    </tr>\n",
       "  </tbody>\n",
       "</table>\n",
       "</div>"
      ],
      "text/plain": [
       "        id_code diagnosis                        file_path         file_name\n",
       "0  000c1434d8d7         2  ./train_images/000c1434d8d7.png  000c1434d8d7.png\n",
       "1  001639a390f0         4  ./train_images/001639a390f0.png  001639a390f0.png\n",
       "2  0024cdab0c1e         1  ./train_images/0024cdab0c1e.png  0024cdab0c1e.png\n",
       "3  002c21358ce6         0  ./train_images/002c21358ce6.png  002c21358ce6.png\n",
       "4  005b95c28852         0  ./train_images/005b95c28852.png  005b95c28852.png\n",
       "5  0083ee8054ee         4  ./train_images/0083ee8054ee.png  0083ee8054ee.png"
      ]
     },
     "execution_count": 3,
     "metadata": {},
     "output_type": "execute_result"
    }
   ],
   "source": [
    "df_train,df_test = load_data()\n",
    "print(df_train.shape,df_test.shape,'\\n')\n",
    "df_train.head(6)"
   ]
  },
  {
   "cell_type": "code",
   "execution_count": 4,
   "metadata": {},
   "outputs": [
    {
     "name": "stdout",
     "output_type": "stream",
     "text": [
      "(2929, 4) (733, 4)\n"
     ]
    }
   ],
   "source": [
    "df_train_train,df_train_valid = train_test_split(df_train,test_size = 0.2)\n",
    "print(df_train_train.shape,df_train_valid.shape)"
   ]
  },
  {
   "cell_type": "code",
   "execution_count": 9,
   "metadata": {},
   "outputs": [
    {
     "data": {
      "text/html": [
       "<div>\n",
       "<style scoped>\n",
       "    .dataframe tbody tr th:only-of-type {\n",
       "        vertical-align: middle;\n",
       "    }\n",
       "\n",
       "    .dataframe tbody tr th {\n",
       "        vertical-align: top;\n",
       "    }\n",
       "\n",
       "    .dataframe thead th {\n",
       "        text-align: right;\n",
       "    }\n",
       "</style>\n",
       "<table border=\"1\" class=\"dataframe\">\n",
       "  <thead>\n",
       "    <tr style=\"text-align: right;\">\n",
       "      <th></th>\n",
       "      <th>id_code</th>\n",
       "      <th>diagnosis</th>\n",
       "      <th>file_path</th>\n",
       "      <th>file_name</th>\n",
       "    </tr>\n",
       "  </thead>\n",
       "  <tbody>\n",
       "    <tr>\n",
       "      <th>3310</th>\n",
       "      <td>e5d56f4f359b</td>\n",
       "      <td>2</td>\n",
       "      <td>./train_images/e5d56f4f359b.png</td>\n",
       "      <td>e5d56f4f359b.png</td>\n",
       "    </tr>\n",
       "    <tr>\n",
       "      <th>2166</th>\n",
       "      <td>9878db94d9f3</td>\n",
       "      <td>3</td>\n",
       "      <td>./train_images/9878db94d9f3.png</td>\n",
       "      <td>9878db94d9f3.png</td>\n",
       "    </tr>\n",
       "    <tr>\n",
       "      <th>2819</th>\n",
       "      <td>c3789c1dab96</td>\n",
       "      <td>0</td>\n",
       "      <td>./train_images/c3789c1dab96.png</td>\n",
       "      <td>c3789c1dab96.png</td>\n",
       "    </tr>\n",
       "    <tr>\n",
       "      <th>1434</th>\n",
       "      <td>64eb5a79dfdd</td>\n",
       "      <td>1</td>\n",
       "      <td>./train_images/64eb5a79dfdd.png</td>\n",
       "      <td>64eb5a79dfdd.png</td>\n",
       "    </tr>\n",
       "    <tr>\n",
       "      <th>878</th>\n",
       "      <td>3f82631e9080</td>\n",
       "      <td>0</td>\n",
       "      <td>./train_images/3f82631e9080.png</td>\n",
       "      <td>3f82631e9080.png</td>\n",
       "    </tr>\n",
       "    <tr>\n",
       "      <th>2257</th>\n",
       "      <td>9f1b14dfa14c</td>\n",
       "      <td>0</td>\n",
       "      <td>./train_images/9f1b14dfa14c.png</td>\n",
       "      <td>9f1b14dfa14c.png</td>\n",
       "    </tr>\n",
       "  </tbody>\n",
       "</table>\n",
       "</div>"
      ],
      "text/plain": [
       "           id_code diagnosis                        file_path  \\\n",
       "3310  e5d56f4f359b         2  ./train_images/e5d56f4f359b.png   \n",
       "2166  9878db94d9f3         3  ./train_images/9878db94d9f3.png   \n",
       "2819  c3789c1dab96         0  ./train_images/c3789c1dab96.png   \n",
       "1434  64eb5a79dfdd         1  ./train_images/64eb5a79dfdd.png   \n",
       "878   3f82631e9080         0  ./train_images/3f82631e9080.png   \n",
       "2257  9f1b14dfa14c         0  ./train_images/9f1b14dfa14c.png   \n",
       "\n",
       "             file_name  \n",
       "3310  e5d56f4f359b.png  \n",
       "2166  9878db94d9f3.png  \n",
       "2819  c3789c1dab96.png  \n",
       "1434  64eb5a79dfdd.png  \n",
       "878   3f82631e9080.png  \n",
       "2257  9f1b14dfa14c.png  "
      ]
     },
     "execution_count": 9,
     "metadata": {},
     "output_type": "execute_result"
    }
   ],
   "source": [
    "df_train_train.head(6)"
   ]
  },
  {
   "cell_type": "code",
   "execution_count": 10,
   "metadata": {},
   "outputs": [
    {
     "data": {
      "text/html": [
       "<div>\n",
       "<style scoped>\n",
       "    .dataframe tbody tr th:only-of-type {\n",
       "        vertical-align: middle;\n",
       "    }\n",
       "\n",
       "    .dataframe tbody tr th {\n",
       "        vertical-align: top;\n",
       "    }\n",
       "\n",
       "    .dataframe thead th {\n",
       "        text-align: right;\n",
       "    }\n",
       "</style>\n",
       "<table border=\"1\" class=\"dataframe\">\n",
       "  <thead>\n",
       "    <tr style=\"text-align: right;\">\n",
       "      <th></th>\n",
       "      <th>diagnosis</th>\n",
       "      <th>count</th>\n",
       "    </tr>\n",
       "  </thead>\n",
       "  <tbody>\n",
       "    <tr>\n",
       "      <th>0</th>\n",
       "      <td>0</td>\n",
       "      <td>1444</td>\n",
       "    </tr>\n",
       "    <tr>\n",
       "      <th>1</th>\n",
       "      <td>1</td>\n",
       "      <td>305</td>\n",
       "    </tr>\n",
       "    <tr>\n",
       "      <th>2</th>\n",
       "      <td>2</td>\n",
       "      <td>791</td>\n",
       "    </tr>\n",
       "    <tr>\n",
       "      <th>3</th>\n",
       "      <td>3</td>\n",
       "      <td>157</td>\n",
       "    </tr>\n",
       "    <tr>\n",
       "      <th>4</th>\n",
       "      <td>4</td>\n",
       "      <td>232</td>\n",
       "    </tr>\n",
       "  </tbody>\n",
       "</table>\n",
       "</div>"
      ],
      "text/plain": [
       "  diagnosis  count\n",
       "0         0   1444\n",
       "1         1    305\n",
       "2         2    791\n",
       "3         3    157\n",
       "4         4    232"
      ]
     },
     "execution_count": 10,
     "metadata": {},
     "output_type": "execute_result"
    }
   ],
   "source": [
    "df_group = pd.DataFrame(df_train_train.groupby('diagnosis').agg('size').reset_index())\n",
    "df_group.columns = ['diagnosis','count']\n",
    "df_group.head(6)"
   ]
  },
  {
   "cell_type": "code",
   "execution_count": 13,
   "metadata": {},
   "outputs": [],
   "source": [
    "'''This Function Plots a Bar plot of output Classes Distribution'''\n",
    "\n",
    "def plot_classes(df,title):\n",
    "    df_group = pd.DataFrame(df.groupby('diagnosis').agg('size').reset_index())\n",
    "    df_group.columns = ['diagnosis','count']\n",
    "\n",
    "    sns.set(rc={'figure.figsize':(10,5)}, style = 'whitegrid')\n",
    "    sns.barplot(data = df_group, x = 'diagnosis', y='count', hue='diagnosis',palette = \"Blues_d\", legend=False)\n",
    "    plt.title('Output Class Distribution ' + str(title))\n",
    "    plt.show() "
   ]
  },
  {
   "cell_type": "code",
   "execution_count": 14,
   "metadata": {},
   "outputs": [
    {
     "data": {
      "image/png": "[encoded data removed]",
      "text/plain": [
       "<Figure size 1000x500 with 1 Axes>"
      ]
     },
     "metadata": {},
     "output_type": "display_data"
    }
   ],
   "source": [
    "plot_classes(df_train_train,\"TRAIN DATA\")"
   ]
  },
  {
   "cell_type": "code",
   "execution_count": 15,
   "metadata": {},
   "outputs": [
    {
     "data": {
      "image/png": "[encoded data removed]",
      "text/plain": [
       "<Figure size 1000x500 with 1 Axes>"
      ]
     },
     "metadata": {},
     "output_type": "display_data"
    }
   ],
   "source": [
    "plot_classes(df_train_valid,'VALIDATION DATA')"
   ]
  },
  {
   "cell_type": "code",
   "execution_count": 20,
   "metadata": {},
   "outputs": [
    {
     "ename": "PermissionError",
     "evalue": "[Errno 13] Permission denied: 'df_train_train'",
     "output_type": "error",
     "traceback": [
      "\u001b[1;31m---------------------------------------------------------------------------\u001b[0m",
      "\u001b[1;31mPermissionError\u001b[0m                           Traceback (most recent call last)",
      "Cell \u001b[1;32mIn[20], line 1\u001b[0m\n\u001b[1;32m----> 1\u001b[0m file \u001b[38;5;241m=\u001b[39m \u001b[38;5;28;43mopen\u001b[39;49m\u001b[43m(\u001b[49m\u001b[38;5;124;43m'\u001b[39;49m\u001b[38;5;124;43mdf_train_train\u001b[39;49m\u001b[38;5;124;43m'\u001b[39;49m\u001b[43m,\u001b[49m\u001b[43m \u001b[49m\u001b[38;5;124;43m'\u001b[39;49m\u001b[38;5;124;43mwb\u001b[39;49m\u001b[38;5;124;43m'\u001b[39;49m\u001b[43m)\u001b[49m\n\u001b[0;32m      2\u001b[0m pickle\u001b[38;5;241m.\u001b[39mdump(df_train_train, file)\n\u001b[0;32m      3\u001b[0m file\u001b[38;5;241m.\u001b[39mclose()\n",
      "File \u001b[1;32mD:\\anaconda3\\envs\\IMG\\lib\\site-packages\\IPython\\core\\interactiveshell.py:310\u001b[0m, in \u001b[0;36m_modified_open\u001b[1;34m(file, *args, **kwargs)\u001b[0m\n\u001b[0;32m    303\u001b[0m \u001b[38;5;28;01mif\u001b[39;00m file \u001b[38;5;129;01min\u001b[39;00m {\u001b[38;5;241m0\u001b[39m, \u001b[38;5;241m1\u001b[39m, \u001b[38;5;241m2\u001b[39m}:\n\u001b[0;32m    304\u001b[0m     \u001b[38;5;28;01mraise\u001b[39;00m \u001b[38;5;167;01mValueError\u001b[39;00m(\n\u001b[0;32m    305\u001b[0m         \u001b[38;5;124mf\u001b[39m\u001b[38;5;124m\"\u001b[39m\u001b[38;5;124mIPython won\u001b[39m\u001b[38;5;124m'\u001b[39m\u001b[38;5;124mt let you open fd=\u001b[39m\u001b[38;5;132;01m{\u001b[39;00mfile\u001b[38;5;132;01m}\u001b[39;00m\u001b[38;5;124m by default \u001b[39m\u001b[38;5;124m\"\u001b[39m\n\u001b[0;32m    306\u001b[0m         \u001b[38;5;124m\"\u001b[39m\u001b[38;5;124mas it is likely to crash IPython. If you know what you are doing, \u001b[39m\u001b[38;5;124m\"\u001b[39m\n\u001b[0;32m    307\u001b[0m         \u001b[38;5;124m\"\u001b[39m\u001b[38;5;124myou can use builtins\u001b[39m\u001b[38;5;124m'\u001b[39m\u001b[38;5;124m open.\u001b[39m\u001b[38;5;124m\"\u001b[39m\n\u001b[0;32m    308\u001b[0m     )\n\u001b[1;32m--> 310\u001b[0m \u001b[38;5;28;01mreturn\u001b[39;00m io_open(file, \u001b[38;5;241m*\u001b[39margs, \u001b[38;5;241m*\u001b[39m\u001b[38;5;241m*\u001b[39mkwargs)\n",
      "\u001b[1;31mPermissionError\u001b[0m: [Errno 13] Permission denied: 'df_train_train'"
     ]
    }
   ],
   "source": [
    "\n",
    "file = open('df_train_train', 'wb')\n",
    "pickle.dump(df_train_train, file)\n",
    "file.close()\n",
    "\n",
    "file = open('df_train_valid', 'wb')\n",
    "pickle.dump(df_train_valid, file)\n",
    "file.close()\n"
   ]
  },
  {
   "cell_type": "code",
   "execution_count": 25,
   "metadata": {},
   "outputs": [
    {
     "ename": "PermissionError",
     "evalue": "[Errno 13] Permission denied: 'df_train_train'",
     "output_type": "error",
     "traceback": [
      "\u001b[1;31m---------------------------------------------------------------------------\u001b[0m",
      "\u001b[1;31mPermissionError\u001b[0m                           Traceback (most recent call last)",
      "Cell \u001b[1;32mIn[25], line 1\u001b[0m\n\u001b[1;32m----> 1\u001b[0m file \u001b[38;5;241m=\u001b[39m \u001b[38;5;28;43mopen\u001b[39;49m\u001b[43m(\u001b[49m\u001b[38;5;124;43m'\u001b[39;49m\u001b[38;5;124;43mdf_train_train\u001b[39;49m\u001b[38;5;124;43m'\u001b[39;49m\u001b[43m,\u001b[49m\u001b[43m \u001b[49m\u001b[38;5;124;43m'\u001b[39;49m\u001b[38;5;124;43mrb\u001b[39;49m\u001b[38;5;124;43m'\u001b[39;49m\u001b[43m)\u001b[49m\n\u001b[0;32m      2\u001b[0m df_train_train \u001b[38;5;241m=\u001b[39m pickle\u001b[38;5;241m.\u001b[39mload(file)\n\u001b[0;32m      3\u001b[0m file\u001b[38;5;241m.\u001b[39mclose()\n",
      "File \u001b[1;32mD:\\anaconda3\\envs\\IMG\\lib\\site-packages\\IPython\\core\\interactiveshell.py:310\u001b[0m, in \u001b[0;36m_modified_open\u001b[1;34m(file, *args, **kwargs)\u001b[0m\n\u001b[0;32m    303\u001b[0m \u001b[38;5;28;01mif\u001b[39;00m file \u001b[38;5;129;01min\u001b[39;00m {\u001b[38;5;241m0\u001b[39m, \u001b[38;5;241m1\u001b[39m, \u001b[38;5;241m2\u001b[39m}:\n\u001b[0;32m    304\u001b[0m     \u001b[38;5;28;01mraise\u001b[39;00m \u001b[38;5;167;01mValueError\u001b[39;00m(\n\u001b[0;32m    305\u001b[0m         \u001b[38;5;124mf\u001b[39m\u001b[38;5;124m\"\u001b[39m\u001b[38;5;124mIPython won\u001b[39m\u001b[38;5;124m'\u001b[39m\u001b[38;5;124mt let you open fd=\u001b[39m\u001b[38;5;132;01m{\u001b[39;00mfile\u001b[38;5;132;01m}\u001b[39;00m\u001b[38;5;124m by default \u001b[39m\u001b[38;5;124m\"\u001b[39m\n\u001b[0;32m    306\u001b[0m         \u001b[38;5;124m\"\u001b[39m\u001b[38;5;124mas it is likely to crash IPython. If you know what you are doing, \u001b[39m\u001b[38;5;124m\"\u001b[39m\n\u001b[0;32m    307\u001b[0m         \u001b[38;5;124m\"\u001b[39m\u001b[38;5;124myou can use builtins\u001b[39m\u001b[38;5;124m'\u001b[39m\u001b[38;5;124m open.\u001b[39m\u001b[38;5;124m\"\u001b[39m\n\u001b[0;32m    308\u001b[0m     )\n\u001b[1;32m--> 310\u001b[0m \u001b[38;5;28;01mreturn\u001b[39;00m io_open(file, \u001b[38;5;241m*\u001b[39margs, \u001b[38;5;241m*\u001b[39m\u001b[38;5;241m*\u001b[39mkwargs)\n",
      "\u001b[1;31mPermissionError\u001b[0m: [Errno 13] Permission denied: 'df_train_train'"
     ]
    }
   ],
   "source": [
    "file = open('df_train_train', 'rb')\n",
    "df_train_train = pickle.load(file)\n",
    "file.close()\n",
    "\n",
    "file = open('df_train_valid', 'rb')\n",
    "df_train_test = pickle.load(file)\n",
    "file.close()"
   ]
  },
  {
   "cell_type": "code",
   "execution_count": 22,
   "metadata": {},
   "outputs": [
    {
     "data": {
      "text/html": [
       "<div>\n",
       "<style scoped>\n",
       "    .dataframe tbody tr th:only-of-type {\n",
       "        vertical-align: middle;\n",
       "    }\n",
       "\n",
       "    .dataframe tbody tr th {\n",
       "        vertical-align: top;\n",
       "    }\n",
       "\n",
       "    .dataframe thead th {\n",
       "        text-align: right;\n",
       "    }\n",
       "</style>\n",
       "<table border=\"1\" class=\"dataframe\">\n",
       "  <thead>\n",
       "    <tr style=\"text-align: right;\">\n",
       "      <th></th>\n",
       "      <th>id_code</th>\n",
       "      <th>diagnosis</th>\n",
       "      <th>file_path</th>\n",
       "      <th>file_name</th>\n",
       "    </tr>\n",
       "  </thead>\n",
       "  <tbody>\n",
       "    <tr>\n",
       "      <th>3310</th>\n",
       "      <td>e5d56f4f359b</td>\n",
       "      <td>2</td>\n",
       "      <td>./train_images/e5d56f4f359b.png</td>\n",
       "      <td>e5d56f4f359b.png</td>\n",
       "    </tr>\n",
       "    <tr>\n",
       "      <th>2166</th>\n",
       "      <td>9878db94d9f3</td>\n",
       "      <td>3</td>\n",
       "      <td>./train_images/9878db94d9f3.png</td>\n",
       "      <td>9878db94d9f3.png</td>\n",
       "    </tr>\n",
       "    <tr>\n",
       "      <th>2819</th>\n",
       "      <td>c3789c1dab96</td>\n",
       "      <td>0</td>\n",
       "      <td>./train_images/c3789c1dab96.png</td>\n",
       "      <td>c3789c1dab96.png</td>\n",
       "    </tr>\n",
       "    <tr>\n",
       "      <th>1434</th>\n",
       "      <td>64eb5a79dfdd</td>\n",
       "      <td>1</td>\n",
       "      <td>./train_images/64eb5a79dfdd.png</td>\n",
       "      <td>64eb5a79dfdd.png</td>\n",
       "    </tr>\n",
       "    <tr>\n",
       "      <th>878</th>\n",
       "      <td>3f82631e9080</td>\n",
       "      <td>0</td>\n",
       "      <td>./train_images/3f82631e9080.png</td>\n",
       "      <td>3f82631e9080.png</td>\n",
       "    </tr>\n",
       "    <tr>\n",
       "      <th>2257</th>\n",
       "      <td>9f1b14dfa14c</td>\n",
       "      <td>0</td>\n",
       "      <td>./train_images/9f1b14dfa14c.png</td>\n",
       "      <td>9f1b14dfa14c.png</td>\n",
       "    </tr>\n",
       "  </tbody>\n",
       "</table>\n",
       "</div>"
      ],
      "text/plain": [
       "           id_code diagnosis                        file_path  \\\n",
       "3310  e5d56f4f359b         2  ./train_images/e5d56f4f359b.png   \n",
       "2166  9878db94d9f3         3  ./train_images/9878db94d9f3.png   \n",
       "2819  c3789c1dab96         0  ./train_images/c3789c1dab96.png   \n",
       "1434  64eb5a79dfdd         1  ./train_images/64eb5a79dfdd.png   \n",
       "878   3f82631e9080         0  ./train_images/3f82631e9080.png   \n",
       "2257  9f1b14dfa14c         0  ./train_images/9f1b14dfa14c.png   \n",
       "\n",
       "             file_name  \n",
       "3310  e5d56f4f359b.png  \n",
       "2166  9878db94d9f3.png  \n",
       "2819  c3789c1dab96.png  \n",
       "1434  64eb5a79dfdd.png  \n",
       "878   3f82631e9080.png  \n",
       "2257  9f1b14dfa14c.png  "
      ]
     },
     "execution_count": 22,
     "metadata": {},
     "output_type": "execute_result"
    }
   ],
   "source": [
    "df_train_train.head(6)"
   ]
  },
  {
   "cell_type": "code",
   "execution_count": 23,
   "metadata": {},
   "outputs": [
    {
     "name": "stdout",
     "output_type": "stream",
     "text": [
      "(2929, 4) (733, 4)\n"
     ]
    }
   ],
   "source": [
    "print(df_train_train.shape,df_train_valid.shape)"
   ]
  },
  {
   "cell_type": "code",
   "execution_count": 4,
   "metadata": {},
   "outputs": [
    {
     "name": "stdout",
     "output_type": "stream",
     "text": [
      "(2929, 4) (733, 4)\n",
      "2929 733\n"
     ]
    }
   ],
   "source": [
    "print(df_train_train.shape,df_train_test.shape)\n",
    "print(len(os.listdir('./train_images_resized_preprocessed')),len(os.listdir('./test_images_resized_preprocessed')))"
   ]
  },
  {
   "cell_type": "markdown",
   "metadata": {},
   "source": [
    "#  <a id = 'section7'> <font color='red'>  7. Resize and Save</font> </a>"
   ]
  },
  {
   "cell_type": "code",
   "execution_count": 6,
   "metadata": {},
   "outputs": [],
   "source": [
    "IMG_SIZE  = 512"
   ]
  },
  {
   "cell_type": "code",
   "execution_count": 81,
   "metadata": {},
   "outputs": [],
   "source": [
    "'''Function loads an image from Folder , Resizes and saves in another directory '''\n",
    "\n",
    "def image_resize_save(file):\n",
    "    input_filepath = os.path.join('./','train_images','{}.png'.format(file))\n",
    "    output_filepath = os.path.join('./','valid_images_resized','{}.png'.format(file))\n",
    "    img = cv2.imread(input_filepath)\n",
    "    cv2.imwrite(output_filepath, cv2.resize(img, (IMG_SIZE,IMG_SIZE)))\n",
    "#image_resize_save(df_train.id_code.iloc[201])"
   ]
  },
  {
   "cell_type": "code",
   "execution_count": 8,
   "metadata": {},
   "outputs": [],
   "source": [
    "'''This Function uses Multi processing for faster saving of images into folder'''\n",
    "\n",
    "def multiprocess_image_downloader(process:int, imgs:list):\n",
    "    \"\"\"\n",
    "    Inputs:\n",
    "        process: (int) number of process to run\n",
    "        imgs:(list) list of images\n",
    "    \"\"\"\n",
    "    print(f'MESSAGE: Running {process} process')\n",
    "    results = ThreadPool(process).map(image_resize_save, imgs)\n",
    "    return results"
   ]
  },
  {
   "cell_type": "code",
   "execution_count": null,
   "metadata": {},
   "outputs": [],
   "source": [
    "# Use 6 cores\n",
    "multiprocess_image_downloader(6, list(df_train_valid.id_code.values))"
   ]
  },
  {
   "cell_type": "markdown",
   "metadata": {},
   "source": [
    "##### Summary - Using Multiprocessing (6 cores), we managed to resize and save images within 10 minutes, and reducing IMG_SIZE to 512, thereby reducing disk-space from 20 GB (earlier) to 1 GB (after resizing). We shall load data into colab and start training models"
   ]
  },
  {
   "cell_type": "markdown",
   "metadata": {},
   "source": [
    "#  <a id = 'section8'> <font color='red'>  8. Image Pre Processing and save</font> </a>"
   ]
  },
  {
   "cell_type": "code",
   "execution_count": 62,
   "metadata": {},
   "outputs": [],
   "source": [
    "def crop_image_from_gray(img,tol=7):\n",
    "    if img.ndim ==2:\n",
    "        mask = img>tol\n",
    "        return img[np.ix_(mask.any(1),mask.any(0))]\n",
    "    elif img.ndim==3:\n",
    "        gray_img = cv2.cvtColor(img, cv2.COLOR_RGB2GRAY)\n",
    "        mask = gray_img>tol\n",
    "        \n",
    "        check_shape = img[:,:,0][np.ix_(mask.any(1),mask.any(0))].shape[0]\n",
    "        if (check_shape == 0): # image is too dark so that we crop out everything,\n",
    "            return img # return original image\n",
    "        else:\n",
    "            img1=img[:,:,0][np.ix_(mask.any(1),mask.any(0))]\n",
    "            img2=img[:,:,1][np.ix_(mask.any(1),mask.any(0))]\n",
    "            img3=img[:,:,2][np.ix_(mask.any(1),mask.any(0))]\n",
    "    #         print(img1.shape,img2.shape,img3.shape)\n",
    "            img = np.stack([img1,img2,img3],axis=-1)\n",
    "    #         print(img.shape)\n",
    "        return img\n",
    "\n",
    "def circle_crop(img, sigmaX = 30):   \n",
    "    \"\"\"\n",
    "    Create circular crop around image centre    \n",
    "    \"\"\"    \n",
    "    img = crop_image_from_gray(img)    \n",
    "    img = cv2.cvtColor(img, cv2.COLOR_BGR2RGB)\n",
    "    \n",
    "    height, width, depth = img.shape    \n",
    "    \n",
    "    x = int(width/2)\n",
    "    y = int(height/2)\n",
    "    r = np.amin((x,y))\n",
    "    \n",
    "    circle_img = np.zeros((height, width), np.uint8)\n",
    "    cv2.circle(circle_img, (x,y), int(r), 1, thickness=-1)\n",
    "    img = cv2.bitwise_and(img, img, mask=circle_img)\n",
    "    img = crop_image_from_gray(img)\n",
    "    img=cv2.addWeighted(img,4, cv2.GaussianBlur( img , (0,0) , sigmaX) ,-4 ,128)\n",
    "    return img \n",
    "\n",
    "def preprocess_image(file):\n",
    "    input_filepath = os.path.join('./','test_images_resized','{}.png'.format(file))\n",
    "    output_filepath = os.path.join('./','test_images_resized_preprocessed','{}.png'.format(file))\n",
    "    \n",
    "    img = cv2.imread(input_filepath)\n",
    "    img = circle_crop(img) \n",
    "    cv2.imwrite(output_filepath, cv2.resize(img, (IMG_SIZE,IMG_SIZE)))"
   ]
  },
  {
   "cell_type": "code",
   "execution_count": 57,
   "metadata": {},
   "outputs": [],
   "source": [
    "'''This Function uses Multi processing for faster saving of images into folder'''\n",
    "\n",
    "def multiprocess_image_processor(process:int, imgs:list):\n",
    "    \"\"\"\n",
    "    Inputs:\n",
    "        process: (int) number of process to run\n",
    "        imgs:(list) list of images\n",
    "    \"\"\"\n",
    "    print(f'MESSAGE: Running {process} process')\n",
    "    results = ThreadPool(process).map(preprocess_image, imgs)\n",
    "    return results"
   ]
  },
  {
   "cell_type": "code",
   "execution_count": null,
   "metadata": {
    "scrolled": true
   },
   "outputs": [],
   "source": [
    "# Use 6 cores\n",
    "multiprocess_image_processor(6, list(df_train_test.id_code.values))"
   ]
  }
 ],
 "metadata": {
  "kernelspec": {
   "display_name": "Python 3 (ipykernel)",
   "language": "python",
   "name": "python3"
  },
  "language_info": {
   "codemirror_mode": {
    "name": "ipython",
    "version": 3
   },
   "file_extension": ".py",
   "mimetype": "text/x-python",
   "name": "python",
   "nbconvert_exporter": "python",
   "pygments_lexer": "ipython3",
   "version": "3.10.13"
  }
 },
 "nbformat": 4,
 "nbformat_minor": 4
}
