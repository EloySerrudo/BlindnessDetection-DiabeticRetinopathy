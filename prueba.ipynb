{
 "cells": [
  {
   "cell_type": "code",
   "execution_count": 1,
   "metadata": {},
   "outputs": [],
   "source": [
    "import threading"
   ]
  },
  {
   "cell_type": "code",
   "execution_count": 2,
   "metadata": {},
   "outputs": [],
   "source": [
    "def MostrarInformacion():\n",
    "    print('Hilo:',threading.current_thread().name,'conidentificador:',threading.current_thread().ident)"
   ]
  },
  {
   "cell_type": "code",
   "execution_count": null,
   "metadata": {},
   "outputs": [],
   "source": [
    "print(\"#Ejecuciónsinhilos#\")\n",
    "MostrarInformacion()\n",
    "MostrarInformacion()\n",
    "MostrarInformacion()"
   ]
  },
  {
   "cell_type": "code",
   "execution_count": 3,
   "metadata": {},
   "outputs": [
    {
     "name": "stdout",
     "output_type": "stream",
     "text": [
      "#Ejecución con hilos#\n",
      "Hilo: Thread-5 conidentificador: 11860\n",
      "Hilo: Thread-6 conidentificador: 16924\n",
      "Hilo: Thread-7 conidentificador: 26128\n"
     ]
    }
   ],
   "source": [
    "if __name__ == \"__main__\":\n",
    "    print(\"#Ejecución con hilos#\")\n",
    "    hilo1=threading.Thread(target=MostrarInformacion)\n",
    "    hilo2=threading.Thread(target=MostrarInformacion)\n",
    "    hilo3=threading.Thread(target=MostrarInformacion)\n",
    "\n",
    "    hilo1.start()\n",
    "    hilo2.start()\n",
    "    hilo3.start()\n",
    "    hilo1.join()\n",
    "    hilo2.join()\n",
    "    hilo3.join()"
   ]
  }
 ],
 "metadata": {
  "kernelspec": {
   "display_name": "Python 3",
   "language": "python",
   "name": "python3"
  },
  "language_info": {
   "codemirror_mode": {
    "name": "ipython",
    "version": 3
   },
   "file_extension": ".py",
   "mimetype": "text/x-python",
   "name": "python",
   "nbconvert_exporter": "python",
   "pygments_lexer": "ipython3",
   "version": "3.7.12"
  }
 },
 "nbformat": 4,
 "nbformat_minor": 2
}
